{
 "cells": [
  {
   "cell_type": "code",
   "execution_count": 3,
   "id": "baebe1f0",
   "metadata": {},
   "outputs": [
    {
     "name": "stdout",
     "output_type": "stream",
     "text": [
      "sample_list: [4, 5, 2, 9]\n",
      "square_list: [16, 25, 4, 81]\n"
     ]
    }
   ],
   "source": [
    "def square(number):\n",
    "    return number * number\n",
    "\n",
    "sample_list = [4, 5, 2, 9]\n",
    "result = list(map(square,sample_list))\n",
    "print('sample_list:',sample_list)\n",
    "print('square_list:',result)"
   ]
  },
  {
   "cell_type": "code",
   "execution_count": null,
   "id": "0127090c",
   "metadata": {},
   "outputs": [],
   "source": []
  }
 ],
 "metadata": {
  "kernelspec": {
   "display_name": "Python 3 (ipykernel)",
   "language": "python",
   "name": "python3"
  },
  "language_info": {
   "codemirror_mode": {
    "name": "ipython",
    "version": 3
   },
   "file_extension": ".py",
   "mimetype": "text/x-python",
   "name": "python",
   "nbconvert_exporter": "python",
   "pygments_lexer": "ipython3",
   "version": "3.10.9"
  }
 },
 "nbformat": 4,
 "nbformat_minor": 5
}
